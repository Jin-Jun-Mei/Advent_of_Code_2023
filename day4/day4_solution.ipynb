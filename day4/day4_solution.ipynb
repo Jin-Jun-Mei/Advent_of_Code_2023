{
 "cells": [
  {
   "cell_type": "code",
   "execution_count": 10,
   "metadata": {},
   "outputs": [],
   "source": [
    "import re"
   ]
  },
  {
   "cell_type": "code",
   "execution_count": 2,
   "metadata": {},
   "outputs": [],
   "source": [
    "input_data = 'example.txt'\n",
    "# input_data = 'example.txt'"
   ]
  },
  {
   "cell_type": "code",
   "execution_count": 9,
   "metadata": {},
   "outputs": [
    {
     "name": "stdout",
     "output_type": "stream",
     "text": [
      " 83 86  6 31 17  9 48 53\n",
      "\n",
      " 61 30 68 82 17 32 24 19\n",
      "\n",
      " 69 82 63 72 16 21 14  1\n",
      "\n",
      " 59 84 76 51 58  5 54 83\n",
      "\n",
      " 88 30 70 12 93 22 82 36\n",
      "\n",
      " 74 77 10 23 35 67 36 11\n"
     ]
    }
   ],
   "source": [
    "with open (input_data, 'r') as file:\n",
    "    for line in file:\n",
    "        card_num, your_num = line.split('|')\n",
    "        print(your_num)"
   ]
  },
  {
   "cell_type": "code",
   "execution_count": null,
   "metadata": {},
   "outputs": [],
   "source": []
  }
 ],
 "metadata": {
  "kernelspec": {
   "display_name": "Python 3",
   "language": "python",
   "name": "python3"
  },
  "language_info": {
   "codemirror_mode": {
    "name": "ipython",
    "version": 3
   },
   "file_extension": ".py",
   "mimetype": "text/x-python",
   "name": "python",
   "nbconvert_exporter": "python",
   "pygments_lexer": "ipython3",
   "version": "3.11.4"
  }
 },
 "nbformat": 4,
 "nbformat_minor": 2
}
