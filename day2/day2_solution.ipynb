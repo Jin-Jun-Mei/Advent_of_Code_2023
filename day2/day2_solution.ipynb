{
 "cells": [
  {
   "cell_type": "markdown",
   "metadata": {},
   "source": [
    "## day 2"
   ]
  },
  {
   "cell_type": "code",
   "execution_count": 26,
   "metadata": {},
   "outputs": [],
   "source": [
    "import re"
   ]
  },
  {
   "cell_type": "code",
   "execution_count": 44,
   "metadata": {},
   "outputs": [],
   "source": [
    "input_data = 'day2_input.txt'\n",
    "# input_data = 'example.txt'"
   ]
  },
  {
   "cell_type": "code",
   "execution_count": 29,
   "metadata": {},
   "outputs": [],
   "source": [
    "max_value = {\n",
    "    \"red\": 12\n",
    "    ,\"green\": 13\n",
    "    ,\"blue\": 14\n",
    "}\n",
    "\n",
    "max_all = max(max_value.values())"
   ]
  },
  {
   "cell_type": "code",
   "execution_count": 30,
   "metadata": {},
   "outputs": [],
   "source": [
    "sum_ID = 0\n",
    "with open (input_data, 'r') as file:\n",
    "    for line in file:\n",
    "        valid = True\n",
    "        ID = re.search(r\"Game (\\d+):\", line).group(1)\n",
    "        #print(\"ID: \",ID)\n",
    "        \n",
    "        outcomes = re.findall(r\"(\\d+) (\\w+)\", line)\n",
    "        \n",
    "        #print(\"outcomes:\",outcomes)\n",
    "        for number,color in outcomes:\n",
    "            #print(number)\n",
    "            #print(color)\n",
    "            if int(number) > max_value[color]:\n",
    "                valid = False\n",
    "                break\n",
    "            \n",
    "        if valid == True:\n",
    "            sum_ID += int(ID)\n",
    "        \n",
    "        # break"
   ]
  },
  {
   "cell_type": "code",
   "execution_count": 31,
   "metadata": {},
   "outputs": [
    {
     "data": {
      "text/plain": [
       "2006"
      ]
     },
     "execution_count": 31,
     "metadata": {},
     "output_type": "execute_result"
    }
   ],
   "source": [
    "## part 1 answer\n",
    "sum_ID"
   ]
  },
  {
   "cell_type": "markdown",
   "metadata": {},
   "source": [
    "### part II"
   ]
  },
  {
   "cell_type": "code",
   "execution_count": 38,
   "metadata": {},
   "outputs": [],
   "source": [
    "def find_largest_number(text):\n",
    "    numbers = [int(num) for num in text]\n",
    "    max_value = max(numbers)\n",
    "    return max_value"
   ]
  },
  {
   "cell_type": "code",
   "execution_count": 46,
   "metadata": {},
   "outputs": [
    {
     "name": "stdout",
     "output_type": "stream",
     "text": [
      "part 2 answer:  84911\n"
     ]
    }
   ],
   "source": [
    "sum_power = 0\n",
    "with open (input_data, 'r') as file:\n",
    "    for line in file:        \n",
    "        reds = re.findall(r\"(\\d+) red\", line)\n",
    "        greens = re.findall(r\"(\\d+) green\", line)\n",
    "        blues = re.findall(r\"(\\d+) blue\", line)\n",
    "        # print(reds)\n",
    "        # print(greens)\n",
    "        # print(blues)\n",
    "        \n",
    "        power = find_largest_number(reds) *  find_largest_number(greens) *find_largest_number(blues)\n",
    "        sum_power += power\n",
    "\n",
    "print(\"Part 2 answer: \", sum_power)"
   ]
  }
 ],
 "metadata": {
  "kernelspec": {
   "display_name": "Python 3",
   "language": "python",
   "name": "python3"
  },
  "language_info": {
   "codemirror_mode": {
    "name": "ipython",
    "version": 3
   },
   "file_extension": ".py",
   "mimetype": "text/x-python",
   "name": "python",
   "nbconvert_exporter": "python",
   "pygments_lexer": "ipython3",
   "version": "3.11.4"
  }
 },
 "nbformat": 4,
 "nbformat_minor": 2
}
