{
 "cells": [
  {
   "cell_type": "code",
   "execution_count": 127,
   "metadata": {},
   "outputs": [],
   "source": [
    "import re"
   ]
  },
  {
   "cell_type": "code",
   "execution_count": 128,
   "metadata": {},
   "outputs": [],
   "source": [
    "input_data = 'input.txt'\n",
    "# input_data = 'example.txt'"
   ]
  },
  {
   "cell_type": "code",
   "execution_count": 129,
   "metadata": {},
   "outputs": [],
   "source": [
    "def Moore_neighbors (i,j):\n",
    "        return (i-1, j-1),(i-1, j),(i-1, j+1),(i,j-1),(i,j+1),(i+1,j-1),(i+1,j),(i+1,j+1)"
   ]
  },
  {
   "cell_type": "code",
   "execution_count": 130,
   "metadata": {},
   "outputs": [],
   "source": [
    "grid = []\n",
    "with open (input_data, 'r') as file:\n",
    "    for line in file:\n",
    "        grid.append(line.strip())\n",
    "        # break\n",
    "# print(grid)"
   ]
  },
  {
   "cell_type": "code",
   "execution_count": 131,
   "metadata": {},
   "outputs": [],
   "source": [
    "symbol_locations = [] #to store the positions of the symbol elements\n",
    "legit_locations = {}\n",
    "\n",
    "for i, row in enumerate(grid):\n",
    "    # print('i =',i)\n",
    "    # print(row)\n",
    "    for j, element in enumerate(row):\n",
    "        if not element.isdigit() and element != \".\":\n",
    "            # print('element:',element)\n",
    "            symbol_locations.append((i,j))\n",
    "            neighbors = Moore_neighbors(i,j)\n",
    "            \n",
    "            # Add the 3 line number to legit_locations\n",
    "            for key in [i-1,i,i+1]:\n",
    "                if key not in legit_locations.keys():\n",
    "                    legit_locations[key] = []\n",
    "            else:\n",
    "                #print(legit_locations.keys())\n",
    "                for x,y in neighbors:\n",
    "                    legit_locations[x].append(y)\n",
    "# print(symbol_locations)"
   ]
  },
  {
   "cell_type": "code",
   "execution_count": 132,
   "metadata": {},
   "outputs": [],
   "source": [
    "legit_number = []\n",
    "\n",
    "for i, row in enumerate(grid):\n",
    "    # print(row)\n",
    "    matches = re.finditer(r'\\d+', row)\n",
    "    # Iterate through each match\n",
    "    for match in matches:\n",
    "        start, end = match.start(), match.end()-1\n",
    "        # print( ' start, end',start, end)\n",
    "        if (start in legit_locations[i]) or (end in legit_locations[i]):\n",
    "            legit_number.append(int(match.group()))\n",
    "        \n",
    "    "
   ]
  },
  {
   "cell_type": "code",
   "execution_count": 133,
   "metadata": {},
   "outputs": [
    {
     "data": {
      "text/plain": [
       "535078"
      ]
     },
     "execution_count": 133,
     "metadata": {},
     "output_type": "execute_result"
    }
   ],
   "source": [
    "sum(legit_number)"
   ]
  },
  {
   "cell_type": "markdown",
   "metadata": {},
   "source": [
    "### Part II"
   ]
  },
  {
   "cell_type": "code",
   "execution_count": 134,
   "metadata": {},
   "outputs": [],
   "source": [
    "def modified_Moore_neighbors (i,start,end):\n",
    "    neighbors = []\n",
    "    for row in [i-1, i+1]:\n",
    "        for column in range (start-1, end+2):\n",
    "            neighbors.append((row,column))\n",
    "    \n",
    "    return neighbors + [(i,start-1),(i,end+1)]"
   ]
  },
  {
   "cell_type": "code",
   "execution_count": 135,
   "metadata": {},
   "outputs": [],
   "source": [
    "class Star:\n",
    "    # Record all star instances\n",
    "    instances = []\n",
    "    \n",
    "    #record all star locations\n",
    "    locations = []\n",
    "    line_positions = {}\n",
    "    \n",
    "    \n",
    "    def __init__(self, x, y, adjacence=None):\n",
    "        self.x = x\n",
    "        self.y = y\n",
    "        if adjacence is None:\n",
    "            self.adjacence = []\n",
    "        else:\n",
    "            self.adjacence = adjacence\n",
    "            \n",
    "        Star.instances.append(self)# Add the instance to the list of instances\n",
    "        \n",
    "    @classmethod\n",
    "    def find_star(cls, x, y):\n",
    "        # Search for a star by its coordinates\n",
    "        for star in cls.instances:\n",
    "            if star.x == x and star.y == y:\n",
    "                return star\n",
    "        return None"
   ]
  },
  {
   "cell_type": "code",
   "execution_count": 136,
   "metadata": {},
   "outputs": [],
   "source": [
    " #to store the positions of the symbol elements\n",
    "gear_locations = {}\n",
    "\n",
    "for i, row in enumerate(grid):\n",
    "    # print('i =',i)\n",
    "    # print(row)\n",
    "    for j, element in enumerate(row):\n",
    "        if element == \"*\":\n",
    "            # print('element:',element)\n",
    "            Star.locations.append((i,j))\n",
    "            Star(x=i, y=j) # Instance Object\n",
    "   \n",
    "            # Add the 3 line number to legit_locations\n",
    "        \n",
    "            if i not in Star.line_positions.keys():\n",
    "                Star.line_positions[i] = [(i,j)]\n",
    "            else:\n",
    "                Star.line_positions[i].append((i,j))"
   ]
  },
  {
   "cell_type": "code",
   "execution_count": null,
   "metadata": {},
   "outputs": [],
   "source": [
    "for i, row in enumerate(grid):\n",
    "    #print('row',i)\n",
    "    matches = re.finditer(r'\\d+', row)\n",
    "    \n",
    "    # Iterate through each match\n",
    "    for match in matches:\n",
    "        start, end = match.start(), match.end()-1\n",
    "        #print( ' start, end',start, end)\n",
    "        moore_neighbors = modified_Moore_neighbors (i,start,end)\n",
    "        #print(moore_neighbors)\n",
    "        for line in [i-1,i,i+1]:\n",
    "            if line in Star.line_positions.keys():\n",
    "                stars = Star.line_positions[line]\n",
    "                # print('stars: ', stars)\n",
    "                for star in stars:\n",
    "                    if star in moore_neighbors:\n",
    "                        #print('star: ', star)\n",
    "                        found_star = Star.find_star(star[0], star[1])\n",
    "                        found_star.adjacence.append(match.group())\n",
    "                        #print(found_star.adjacence)\n",
    "                        #print('match',match.group())\n",
    "        # break\n",
    "                        "
   ]
  },
  {
   "cell_type": "code",
   "execution_count": 139,
   "metadata": {},
   "outputs": [],
   "source": [
    "total_ratio = 0 \n",
    "\n",
    "for star in Star.instances:\n",
    "    #print(star.adjacence)\n",
    "    if len(star.adjacence) == 2:\n",
    "        ratio = int(star.adjacence[0]) * int(star.adjacence[1])\n",
    "        total_ratio += ratio"
   ]
  },
  {
   "cell_type": "code",
   "execution_count": 140,
   "metadata": {},
   "outputs": [
    {
     "data": {
      "text/plain": [
       "75312571"
      ]
     },
     "execution_count": 140,
     "metadata": {},
     "output_type": "execute_result"
    }
   ],
   "source": [
    "total_ratio"
   ]
  },
  {
   "cell_type": "markdown",
   "metadata": {},
   "source": []
  }
 ],
 "metadata": {
  "kernelspec": {
   "display_name": "Python 3",
   "language": "python",
   "name": "python3"
  },
  "language_info": {
   "codemirror_mode": {
    "name": "ipython",
    "version": 3
   },
   "file_extension": ".py",
   "mimetype": "text/x-python",
   "name": "python",
   "nbconvert_exporter": "python",
   "pygments_lexer": "ipython3",
   "version": "3.11.4"
  }
 },
 "nbformat": 4,
 "nbformat_minor": 2
}
