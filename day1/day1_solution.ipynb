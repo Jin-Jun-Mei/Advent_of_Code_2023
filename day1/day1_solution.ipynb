{
 "cells": [
  {
   "cell_type": "code",
   "execution_count": 1,
   "metadata": {},
   "outputs": [],
   "source": [
    "import re"
   ]
  },
  {
   "cell_type": "markdown",
   "metadata": {},
   "source": [
    "Part 1"
   ]
  },
  {
   "cell_type": "code",
   "execution_count": 2,
   "metadata": {},
   "outputs": [],
   "source": [
    "def find_first_and_last_number(line):\n",
    "    # Find all numbers in the line\n",
    "    numbers = re.findall(r'\\d', line)\n",
    "    if numbers:\n",
    "        # Convert all found numbers to integers\n",
    "        numbers = [int(num) for num in numbers]\n",
    "        # Return the first and last numbers\n",
    "        return numbers[0], numbers[-1]\n",
    "    else:\n",
    "        # Return None if no numbers are found\n",
    "        return None, None"
   ]
  },
  {
   "cell_type": "code",
   "execution_count": 3,
   "metadata": {},
   "outputs": [
    {
     "name": "stdout",
     "output_type": "stream",
     "text": [
      "54644\n"
     ]
    }
   ],
   "source": [
    "total_1 = 0 # sum\n",
    "\n",
    "with open ('day1_input.txt', 'r') as file:\n",
    "    for line in file:\n",
    "        first, last = find_first_and_last_number(line)\n",
    "        #print('first', first)\n",
    "        #print('last', last)\n",
    "        total_1 += (first * 10 + last)\n",
    "        #print(total)\n",
    "        #break\n",
    "\n",
    "print(total_1)"
   ]
  },
  {
   "cell_type": "markdown",
   "metadata": {},
   "source": [
    "Part 2"
   ]
  },
  {
   "cell_type": "code",
   "execution_count": 37,
   "metadata": {},
   "outputs": [],
   "source": [
    "def word_to_number(word):\n",
    "    mapping = {\n",
    "        \"zero\": 0,\"one\": 1, \"two\": 2, \"three\": 3, \"four\": 4,\n",
    "        \"five\": 5, \"six\": 6, \"seven\": 7, \"eight\": 8, \"nine\": 9\n",
    "    }\n",
    "    return mapping.get(word.lower())\n",
    "\n",
    "def find_first_number(line):\n",
    "    # Regular expression to find digits or word forms\n",
    "    pattern = r'\\d|zero|one|two|three|four|five|six|seven|eight|nine'\n",
    "    first = re.search(pattern, line, flags=re.IGNORECASE).group(0)\n",
    "    # print ('first',first)\n",
    "    if first.isdigit():\n",
    "        return int(first)\n",
    "    else:\n",
    "        return word_to_number(first)\n",
    "        \n",
    "def find_last_number(line):\n",
    "    reversed_line = line[::-1]\n",
    "    # Regular expression to find digits or word forms\n",
    "    pattern = r'\\d|orez|eno|owt|eerht|ruof|evif|xis|neves|thgie|enin'\n",
    "    last = re.search(pattern, reversed_line, flags=re.IGNORECASE).group(0)\n",
    "    # print ('last',last)\n",
    "    if last.isdigit():\n",
    "        return int(last)\n",
    "    else:\n",
    "        return word_to_number(last[::-1])"
   ]
  },
  {
   "cell_type": "code",
   "execution_count": 38,
   "metadata": {},
   "outputs": [
    {
     "name": "stdout",
     "output_type": "stream",
     "text": [
      "53348\n"
     ]
    }
   ],
   "source": [
    "total_2 = 0\n",
    "with open ('day1_input.txt', 'r') as file:\n",
    "    for line in file:\n",
    "        first = find_first_number(line)\n",
    "        last = find_last_number(line)\n",
    "        # print('first', first)\n",
    "        # print('last', last)\n",
    "        number = first * 10 + last\n",
    "        total_2 += number\n",
    "        # print(total_2)\n",
    "        #break\n",
    "\n",
    "print(total_2)"
   ]
  }
 ],
 "metadata": {
  "kernelspec": {
   "display_name": "Python 3",
   "language": "python",
   "name": "python3"
  },
  "language_info": {
   "codemirror_mode": {
    "name": "ipython",
    "version": 3
   },
   "file_extension": ".py",
   "mimetype": "text/x-python",
   "name": "python",
   "nbconvert_exporter": "python",
   "pygments_lexer": "ipython3",
   "version": "3.11.4"
  }
 },
 "nbformat": 4,
 "nbformat_minor": 2
}
